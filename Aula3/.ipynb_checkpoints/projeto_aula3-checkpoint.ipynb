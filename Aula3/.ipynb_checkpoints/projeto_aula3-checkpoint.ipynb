{
 "cells": [
  {
   "cell_type": "markdown",
   "id": "f8cb2a77",
   "metadata": {},
   "source": [
    "# Análise de dados com python"
   ]
  },
  {
   "cell_type": "markdown",
   "id": "f8673f87",
   "metadata": {},
   "source": [
    "## Biblioteca"
   ]
  },
  {
   "cell_type": "code",
   "execution_count": 1,
   "id": "33aabb91",
   "metadata": {},
   "outputs": [
    {
     "name": "stdout",
     "output_type": "stream",
     "text": [
      "Requirement already satisfied: pandas in c:\\users\\malum\\anaconda3\\lib\\site-packages (2.0.3)\n",
      "Requirement already satisfied: python-dateutil>=2.8.2 in c:\\users\\malum\\anaconda3\\lib\\site-packages (from pandas) (2.8.2)\n",
      "Requirement already satisfied: pytz>=2020.1 in c:\\users\\malum\\anaconda3\\lib\\site-packages (from pandas) (2023.3.post1)\n",
      "Requirement already satisfied: tzdata>=2022.1 in c:\\users\\malum\\anaconda3\\lib\\site-packages (from pandas) (2023.3)\n",
      "Requirement already satisfied: numpy>=1.21.0 in c:\\users\\malum\\anaconda3\\lib\\site-packages (from pandas) (1.24.3)\n",
      "Requirement already satisfied: six>=1.5 in c:\\users\\malum\\anaconda3\\lib\\site-packages (from python-dateutil>=2.8.2->pandas) (1.16.0)\n"
     ]
    }
   ],
   "source": [
    "!pip install pandas"
   ]
  },
  {
   "cell_type": "code",
   "execution_count": 4,
   "id": "83e5865a",
   "metadata": {},
   "outputs": [],
   "source": [
    "# apelidando a biblioteca para facilitar escrita\n",
    "import pandas as pd"
   ]
  },
  {
   "cell_type": "markdown",
   "id": "0c2d54ad",
   "metadata": {},
   "source": [
    "## Carregando dados"
   ]
  },
  {
   "cell_type": "code",
   "execution_count": null,
   "id": "18c06d5a",
   "metadata": {},
   "outputs": [],
   "source": [
    "# o arquivo deve estar no mesmo diretório\n",
    "dados = pd.read_excel(\"vendas.xlsx\")"
   ]
  },
  {
   "cell_type": "code",
   "execution_count": 5,
   "id": "7f1ebc88",
   "metadata": {},
   "outputs": [],
   "source": [
    "# traz a tabela carregada na memória\n",
    "dados"
   ]
  },
  {
   "cell_type": "markdown",
   "id": "22d7c68d",
   "metadata": {},
   "source": [
    "## Análise exploratória"
   ]
  },
  {
   "cell_type": "code",
   "execution_count": 6,
   "id": "ad7ece13",
   "metadata": {},
   "outputs": [
    {
     "ename": "NameError",
     "evalue": "name 'dados' is not defined",
     "output_type": "error",
     "traceback": [
      "\u001b[1;31m---------------------------------------------------------------------------\u001b[0m",
      "\u001b[1;31mNameError\u001b[0m                                 Traceback (most recent call last)",
      "Cell \u001b[1;32mIn[6], line 2\u001b[0m\n\u001b[0;32m      1\u001b[0m \u001b[38;5;66;03m# traz as primeiras linhas (o padrão é 5)\u001b[39;00m\n\u001b[1;32m----> 2\u001b[0m dados\u001b[38;5;241m.\u001b[39mhead()\n",
      "\u001b[1;31mNameError\u001b[0m: name 'dados' is not defined"
     ]
    }
   ],
   "source": [
    "# traz as primeiras linhas (o padrão é 5)\n",
    "dados.head()"
   ]
  },
  {
   "cell_type": "code",
   "execution_count": null,
   "id": "dc2b11bc",
   "metadata": {},
   "outputs": [],
   "source": [
    "# traz as últimas linhas\n",
    "dados.tail()"
   ]
  },
  {
   "cell_type": "code",
   "execution_count": null,
   "id": "66e70263",
   "metadata": {},
   "outputs": [],
   "source": [
    "# verificando a quantidade de linhas e colunas\n",
    "dados.shape()"
   ]
  },
  {
   "cell_type": "code",
   "execution_count": 7,
   "id": "4903f4a7",
   "metadata": {},
   "outputs": [
    {
     "ename": "NameError",
     "evalue": "name 'dados' is not defined",
     "output_type": "error",
     "traceback": [
      "\u001b[1;31m---------------------------------------------------------------------------\u001b[0m",
      "\u001b[1;31mNameError\u001b[0m                                 Traceback (most recent call last)",
      "Cell \u001b[1;32mIn[7], line 2\u001b[0m\n\u001b[0;32m      1\u001b[0m \u001b[38;5;66;03m# verificando tipos de dados\u001b[39;00m\n\u001b[1;32m----> 2\u001b[0m dados\u001b[38;5;241m.\u001b[39minfo()\n",
      "\u001b[1;31mNameError\u001b[0m: name 'dados' is not defined"
     ]
    }
   ],
   "source": [
    "# verificando tipos de dados\n",
    "dados.info()\n",
    "\n",
    "# object - texto; datetime64 [ns] data e hora; int64 - inteiro numérico;"
   ]
  },
  {
   "cell_type": "code",
   "execution_count": null,
   "id": "549a7e53",
   "metadata": {},
   "outputs": [],
   "source": [
    "# selecionar uma coluna\n",
    "dados.loja"
   ]
  },
  {
   "cell_type": "markdown",
   "id": "52ef835d",
   "metadata": {},
   "source": [
    "## Gerando estatísticas"
   ]
  },
  {
   "cell_type": "code",
   "execution_count": null,
   "id": "9bd1d144",
   "metadata": {},
   "outputs": [],
   "source": [
    "# trazer principais estatísticas de uma coluna numérica\n",
    "dados.preco.describe()"
   ]
  },
  {
   "cell_type": "markdown",
   "id": "a0248a00",
   "metadata": {},
   "source": [
    "## Análises"
   ]
  },
  {
   "cell_type": "code",
   "execution_count": null,
   "id": "e4c180b9",
   "metadata": {},
   "outputs": [],
   "source": [
    "dados.head()"
   ]
  },
  {
   "cell_type": "code",
   "execution_count": null,
   "id": "2f7b4891",
   "metadata": {},
   "outputs": [],
   "source": [
    "# total de vendas por loja - considerando que cada linha é uma venda\n",
    "dados.loja.value_counts()"
   ]
  },
  {
   "cell_type": "code",
   "execution_count": null,
   "id": "dda67da8",
   "metadata": {},
   "outputs": [],
   "source": [
    "# total de vendas por cidade\n",
    "dados.cidade.value_counts()"
   ]
  },
  {
   "cell_type": "code",
   "execution_count": null,
   "id": "acab439f",
   "metadata": {},
   "outputs": [],
   "source": [
    "# total de vendas por forma de pagamento\n",
    "dados.forma_pagamento.value_counts()"
   ]
  },
  {
   "cell_type": "markdown",
   "id": "f4ad0fa2",
   "metadata": {},
   "source": [
    "## Agrupamento de dados"
   ]
  },
  {
   "cell_type": "code",
   "execution_count": null,
   "id": "b0f439c0",
   "metadata": {},
   "outputs": [],
   "source": [
    "# analisar o faturamento por loja\n",
    "dados.groupby(\"loja\").preco.sum()"
   ]
  },
  {
   "cell_type": "code",
   "execution_count": null,
   "id": "d19c63de",
   "metadata": {},
   "outputs": [],
   "source": [
    "# média do preço de vendas por estado\n",
    "dados.groupby(\"estado\").preco.mean().to_frame()"
   ]
  },
  {
   "cell_type": "code",
   "execution_count": null,
   "id": "cdde60b0",
   "metadata": {},
   "outputs": [],
   "source": [
    "# agrupamento de loja, cidade e estado\n",
    "dados.groupby([\"estado\", \"cidade\", \"loja\"]).preco.sum().to_excel(\"faturamento.xlsx\")"
   ]
  },
  {
   "cell_type": "markdown",
   "id": "836ec797",
   "metadata": {},
   "source": [
    "## Visualização de dados"
   ]
  },
  {
   "cell_type": "code",
   "execution_count": 8,
   "id": "8b00f4cb",
   "metadata": {},
   "outputs": [
    {
     "name": "stdout",
     "output_type": "stream",
     "text": [
      "Collecting plotly_express\n",
      "  Downloading plotly_express-0.4.1-py2.py3-none-any.whl (2.9 kB)\n",
      "Requirement already satisfied: pandas>=0.20.0 in c:\\users\\malum\\anaconda3\\lib\\site-packages (from plotly_express) (2.0.3)\n",
      "Requirement already satisfied: plotly>=4.1.0 in c:\\users\\malum\\anaconda3\\lib\\site-packages (from plotly_express) (5.9.0)\n",
      "Requirement already satisfied: statsmodels>=0.9.0 in c:\\users\\malum\\anaconda3\\lib\\site-packages (from plotly_express) (0.14.0)\n",
      "Requirement already satisfied: scipy>=0.18 in c:\\users\\malum\\anaconda3\\lib\\site-packages (from plotly_express) (1.11.1)\n",
      "Requirement already satisfied: patsy>=0.5 in c:\\users\\malum\\anaconda3\\lib\\site-packages (from plotly_express) (0.5.3)\n",
      "Requirement already satisfied: numpy>=1.11 in c:\\users\\malum\\anaconda3\\lib\\site-packages (from plotly_express) (1.24.3)\n",
      "Requirement already satisfied: python-dateutil>=2.8.2 in c:\\users\\malum\\anaconda3\\lib\\site-packages (from pandas>=0.20.0->plotly_express) (2.8.2)\n",
      "Requirement already satisfied: pytz>=2020.1 in c:\\users\\malum\\anaconda3\\lib\\site-packages (from pandas>=0.20.0->plotly_express) (2023.3.post1)\n",
      "Requirement already satisfied: tzdata>=2022.1 in c:\\users\\malum\\anaconda3\\lib\\site-packages (from pandas>=0.20.0->plotly_express) (2023.3)\n",
      "Requirement already satisfied: six in c:\\users\\malum\\anaconda3\\lib\\site-packages (from patsy>=0.5->plotly_express) (1.16.0)\n",
      "Requirement already satisfied: tenacity>=6.2.0 in c:\\users\\malum\\anaconda3\\lib\\site-packages (from plotly>=4.1.0->plotly_express) (8.2.2)\n",
      "Requirement already satisfied: packaging>=21.3 in c:\\users\\malum\\anaconda3\\lib\\site-packages (from statsmodels>=0.9.0->plotly_express) (23.1)\n",
      "Installing collected packages: plotly_express\n",
      "Successfully installed plotly_express-0.4.1\n"
     ]
    }
   ],
   "source": [
    "!pip install plotly_express"
   ]
  },
  {
   "cell_type": "code",
   "execution_count": 9,
   "id": "f7abfe7b",
   "metadata": {},
   "outputs": [],
   "source": [
    "import plotly_express as px"
   ]
  },
  {
   "cell_type": "code",
   "execution_count": null,
   "id": "9ac466d0",
   "metadata": {},
   "outputs": [],
   "source": [
    "grafico = px.histogram(dados, x=\"loja\", y=\"preco\", title =\"Vendas por loja\", text_auto=True, color=\"forma_pagamento\")"
   ]
  },
  {
   "cell_type": "code",
   "execution_count": null,
   "id": "dbc0ee7f",
   "metadata": {},
   "outputs": [],
   "source": [
    "grafico.write_html(\"grafico.html\")"
   ]
  },
  {
   "cell_type": "markdown",
   "id": "0aff62cb",
   "metadata": {},
   "source": [
    "## Lista"
   ]
  },
  {
   "cell_type": "code",
   "execution_count": 24,
   "id": "c72f19ac",
   "metadata": {},
   "outputs": [],
   "source": [
    "colunas = [\"loja\", \"cidade\", \"estado\", \"tamanho\"]"
   ]
  },
  {
   "cell_type": "code",
   "execution_count": 25,
   "id": "0d0b1c84",
   "metadata": {},
   "outputs": [
    {
     "data": {
      "text/plain": [
       "'cidade'"
      ]
     },
     "execution_count": 25,
     "metadata": {},
     "output_type": "execute_result"
    }
   ],
   "source": [
    "colunas[1]"
   ]
  },
  {
   "cell_type": "markdown",
   "id": "5d0d9c00",
   "metadata": {},
   "source": [
    "## Estrutura de repetição"
   ]
  },
  {
   "cell_type": "code",
   "execution_count": 26,
   "id": "80c79aa2",
   "metadata": {},
   "outputs": [
    {
     "name": "stdout",
     "output_type": "stream",
     "text": [
      "loja\n",
      "cidade\n",
      "estado\n",
      "tamanho\n"
     ]
    }
   ],
   "source": [
    "# gerando um gráfico para cada coluna do arquivo\n",
    "for coluna in colunas:\n",
    "    grafico = px.histogram(dados,\n",
    "                           x=\"loja\",\n",
    "                           y=\"preco\",\n",
    "                           title =f\"Faturamento por {coluna}\",\n",
    "                           text_auto=True,\n",
    "                           color=\"forma_pagamento\")\n",
    "    grafico.show()\n",
    "    grafico.write_html(f\"grafico-{coluna}.html\")"
   ]
  },
  {
   "cell_type": "code",
   "execution_count": null,
   "id": "b59ea44d",
   "metadata": {},
   "outputs": [],
   "source": []
  }
 ],
 "metadata": {
  "kernelspec": {
   "display_name": "Python 3 (ipykernel)",
   "language": "python",
   "name": "python3"
  },
  "language_info": {
   "codemirror_mode": {
    "name": "ipython",
    "version": 3
   },
   "file_extension": ".py",
   "mimetype": "text/x-python",
   "name": "python",
   "nbconvert_exporter": "python",
   "pygments_lexer": "ipython3",
   "version": "3.11.5"
  }
 },
 "nbformat": 4,
 "nbformat_minor": 5
}
