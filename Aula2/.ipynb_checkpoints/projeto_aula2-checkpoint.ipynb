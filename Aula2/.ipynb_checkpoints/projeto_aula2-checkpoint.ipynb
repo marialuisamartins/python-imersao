{
 "cells": [
  {
   "cell_type": "markdown",
   "id": "260fe122",
   "metadata": {},
   "source": [
    "# Segunda Aula - Semana Python"
   ]
  },
  {
   "cell_type": "markdown",
   "id": "6c93c2ae",
   "metadata": {},
   "source": [
    "## Problema a ser resolvido - passo a passo\n",
    "\n",
    "- Buscar automaticamente os dados das ações;\n",
    "- Gerar análises;\n",
    "- Enviar e-mail para o gestor."
   ]
  },
  {
   "cell_type": "markdown",
   "id": "60df0808",
   "metadata": {},
   "source": [
    "### Passo 1 - Busca de ações"
   ]
  },
  {
   "cell_type": "code",
   "execution_count": 1,
   "id": "ca27d6fd",
   "metadata": {},
   "outputs": [
    {
     "name": "stdout",
     "output_type": "stream",
     "text": [
      "Collecting yfinance\n",
      "  Obtaining dependency information for yfinance from https://files.pythonhosted.org/packages/1b/0f/77716aa9dd84bb1aa5e93c87122af1de89697b6231f6d01d58d4e7c03c14/yfinance-0.2.36-py2.py3-none-any.whl.metadata\n",
      "  Downloading yfinance-0.2.36-py2.py3-none-any.whl.metadata (11 kB)\n",
      "Requirement already satisfied: pandas>=1.3.0 in c:\\users\\malum\\anaconda3\\lib\\site-packages (from yfinance) (2.0.3)\n",
      "Requirement already satisfied: numpy>=1.16.5 in c:\\users\\malum\\anaconda3\\lib\\site-packages (from yfinance) (1.24.3)\n",
      "Requirement already satisfied: requests>=2.31 in c:\\users\\malum\\anaconda3\\lib\\site-packages (from yfinance) (2.31.0)\n",
      "Collecting multitasking>=0.0.7 (from yfinance)\n",
      "  Downloading multitasking-0.0.11-py3-none-any.whl (8.5 kB)\n",
      "Requirement already satisfied: lxml>=4.9.1 in c:\\users\\malum\\anaconda3\\lib\\site-packages (from yfinance) (4.9.3)\n",
      "Requirement already satisfied: appdirs>=1.4.4 in c:\\users\\malum\\anaconda3\\lib\\site-packages (from yfinance) (1.4.4)\n",
      "Requirement already satisfied: pytz>=2022.5 in c:\\users\\malum\\anaconda3\\lib\\site-packages (from yfinance) (2023.3.post1)\n",
      "Collecting frozendict>=2.3.4 (from yfinance)\n",
      "  Downloading frozendict-2.4.0.tar.gz (314 kB)\n",
      "     ---------------------------------------- 0.0/314.6 kB ? eta -:--:--\n",
      "     - -------------------------------------- 10.2/314.6 kB ? eta -:--:--\n",
      "     --- --------------------------------- 30.7/314.6 kB 435.7 kB/s eta 0:00:01\n",
      "     -------------- ----------------------- 122.9/314.6 kB 1.0 MB/s eta 0:00:01\n",
      "     ------------------------------ ------- 256.0/314.6 kB 1.6 MB/s eta 0:00:01\n",
      "     -------------------------------------- 314.6/314.6 kB 1.6 MB/s eta 0:00:00\n",
      "  Installing build dependencies: started\n",
      "  Installing build dependencies: finished with status 'done'\n",
      "  Getting requirements to build wheel: started\n",
      "  Getting requirements to build wheel: finished with status 'done'\n",
      "  Preparing metadata (pyproject.toml): started\n",
      "  Preparing metadata (pyproject.toml): finished with status 'done'\n",
      "Collecting peewee>=3.16.2 (from yfinance)\n",
      "  Downloading peewee-3.17.0.tar.gz (2.9 MB)\n",
      "     ---------------------------------------- 0.0/2.9 MB ? eta -:--:--\n",
      "     ---- ----------------------------------- 0.3/2.9 MB 7.0 MB/s eta 0:00:01\n",
      "     -------- ------------------------------- 0.6/2.9 MB 6.8 MB/s eta 0:00:01\n",
      "     ------------ --------------------------- 0.9/2.9 MB 6.2 MB/s eta 0:00:01\n",
      "     ---------------- ----------------------- 1.2/2.9 MB 6.3 MB/s eta 0:00:01\n",
      "     ------------------- -------------------- 1.5/2.9 MB 6.2 MB/s eta 0:00:01\n",
      "     ----------------------- ---------------- 1.7/2.9 MB 6.1 MB/s eta 0:00:01\n",
      "     --------------------------- ------------ 2.0/2.9 MB 6.1 MB/s eta 0:00:01\n",
      "     ------------------------------- -------- 2.3/2.9 MB 6.1 MB/s eta 0:00:01\n",
      "     ---------------------------------- ----- 2.5/2.9 MB 6.0 MB/s eta 0:00:01\n",
      "     -------------------------------------- - 2.8/2.9 MB 6.0 MB/s eta 0:00:01\n",
      "     ---------------------------------------  2.9/2.9 MB 6.0 MB/s eta 0:00:01\n",
      "     ---------------------------------------- 2.9/2.9 MB 5.5 MB/s eta 0:00:00\n",
      "  Installing build dependencies: started\n",
      "  Installing build dependencies: finished with status 'done'\n",
      "  Getting requirements to build wheel: started\n",
      "  Getting requirements to build wheel: finished with status 'done'\n",
      "  Preparing metadata (pyproject.toml): started\n",
      "  Preparing metadata (pyproject.toml): finished with status 'done'\n",
      "Requirement already satisfied: beautifulsoup4>=4.11.1 in c:\\users\\malum\\anaconda3\\lib\\site-packages (from yfinance) (4.12.2)\n",
      "Collecting html5lib>=1.1 (from yfinance)\n",
      "  Downloading html5lib-1.1-py2.py3-none-any.whl (112 kB)\n",
      "     ---------------------------------------- 0.0/112.2 kB ? eta -:--:--\n",
      "     -------------------------------------- 112.2/112.2 kB 6.8 MB/s eta 0:00:00\n",
      "Requirement already satisfied: soupsieve>1.2 in c:\\users\\malum\\anaconda3\\lib\\site-packages (from beautifulsoup4>=4.11.1->yfinance) (2.4)\n",
      "Requirement already satisfied: six>=1.9 in c:\\users\\malum\\anaconda3\\lib\\site-packages (from html5lib>=1.1->yfinance) (1.16.0)\n",
      "Requirement already satisfied: webencodings in c:\\users\\malum\\anaconda3\\lib\\site-packages (from html5lib>=1.1->yfinance) (0.5.1)\n",
      "Requirement already satisfied: python-dateutil>=2.8.2 in c:\\users\\malum\\anaconda3\\lib\\site-packages (from pandas>=1.3.0->yfinance) (2.8.2)\n",
      "Requirement already satisfied: tzdata>=2022.1 in c:\\users\\malum\\anaconda3\\lib\\site-packages (from pandas>=1.3.0->yfinance) (2023.3)\n",
      "Requirement already satisfied: charset-normalizer<4,>=2 in c:\\users\\malum\\anaconda3\\lib\\site-packages (from requests>=2.31->yfinance) (2.0.4)\n",
      "Requirement already satisfied: idna<4,>=2.5 in c:\\users\\malum\\anaconda3\\lib\\site-packages (from requests>=2.31->yfinance) (3.4)\n",
      "Requirement already satisfied: urllib3<3,>=1.21.1 in c:\\users\\malum\\anaconda3\\lib\\site-packages (from requests>=2.31->yfinance) (1.26.16)\n",
      "Requirement already satisfied: certifi>=2017.4.17 in c:\\users\\malum\\anaconda3\\lib\\site-packages (from requests>=2.31->yfinance) (2023.7.22)\n",
      "Downloading yfinance-0.2.36-py2.py3-none-any.whl (72 kB)\n",
      "   ---------------------------------------- 0.0/72.4 kB ? eta -:--:--\n",
      "   ---------------------------------------- 72.4/72.4 kB 3.9 MB/s eta 0:00:00\n",
      "Building wheels for collected packages: frozendict, peewee\n",
      "  Building wheel for frozendict (pyproject.toml): started\n",
      "  Building wheel for frozendict (pyproject.toml): finished with status 'done'\n",
      "  Created wheel for frozendict: filename=frozendict-2.4.0-py3-none-any.whl size=15471 sha256=3b84cb99a0c7d81e903dc3cf4e39b7d34238da01e71770547e24ac405cb54a09\n",
      "  Stored in directory: c:\\users\\malum\\appdata\\local\\pip\\cache\\wheels\\31\\dd\\81\\a814e6f8cde8a1bbc1f088fdc273943371f10478b91a605e14\n",
      "  Building wheel for peewee (pyproject.toml): started\n",
      "  Building wheel for peewee (pyproject.toml): finished with status 'done'\n",
      "  Created wheel for peewee: filename=peewee-3.17.0-py3-none-any.whl size=135766 sha256=847e4d742220ef9e73d8916585f6188e90821bc8056b2340afedef84fe6a4a6d\n",
      "  Stored in directory: c:\\users\\malum\\appdata\\local\\pip\\cache\\wheels\\02\\20\\23\\74a10d0cd31f5d41c19b92ddf4c138ceff01b9f4675f19dbf5\n",
      "Successfully built frozendict peewee\n",
      "Installing collected packages: peewee, multitasking, html5lib, frozendict, yfinance\n",
      "Successfully installed frozendict-2.4.0 html5lib-1.1 multitasking-0.0.11 peewee-3.17.0 yfinance-0.2.36\n"
     ]
    }
   ],
   "source": [
    "!pip install yfinance"
   ]
  },
  {
   "cell_type": "code",
   "execution_count": 2,
   "id": "6e869297",
   "metadata": {},
   "outputs": [],
   "source": [
    "import yfinance"
   ]
  },
  {
   "cell_type": "code",
   "execution_count": 20,
   "id": "5d365651",
   "metadata": {},
   "outputs": [
    {
     "name": "stdout",
     "output_type": "stream",
     "text": [
      "Digite o código da ação desejada: PETR4.SA\n"
     ]
    },
    {
     "data": {
      "text/plain": [
       "<Axes: xlabel='Date'>"
      ]
     },
     "execution_count": 20,
     "metadata": {},
     "output_type": "execute_result"
    },
    {
     "data": {
      "image/png": "[encoded data removed]",
      "text/plain": [
       "<Figure size 640x480 with 1 Axes>"
      ]
     },
     "metadata": {},
     "output_type": "display_data"
    }
   ],
   "source": [
    "codigo = input(\"Digite o código da ação desejada: \")\n",
    "\n",
    "# Busca dos dados\n",
    "yfinance.Ticker(codigo).history(\"6mo\")\n",
    "\n",
    "# Seleção da coluna de fechamentos\n",
    "fechamento = dados.Close\n",
    "\n",
    "# Gráfico de variação\n",
    "fechamento.plot()"
   ]
  },
  {
   "cell_type": "markdown",
   "id": "c0213733",
   "metadata": {},
   "source": [
    "### Passo 2 - Gerar análises de forma automática\n",
    "\n",
    "- Análise dos últimos seis meses\n",
    "- Cotação máxima\n",
    "- Cotação mínima\n",
    "- Cotação atual"
   ]
  },
  {
   "cell_type": "code",
   "execution_count": 21,
   "id": "874939e9",
   "metadata": {},
   "outputs": [
    {
     "data": {
      "text/plain": [
       "Date\n",
       "2023-07-24 00:00:00-03:00    28.107458\n",
       "2023-07-25 00:00:00-03:00    28.756805\n",
       "2023-07-26 00:00:00-03:00    28.756805\n",
       "2023-07-27 00:00:00-03:00    27.263306\n",
       "2023-07-28 00:00:00-03:00    27.606533\n",
       "                               ...    \n",
       "2024-01-17 00:00:00-03:00    37.880001\n",
       "2024-01-18 00:00:00-03:00    37.730000\n",
       "2024-01-19 00:00:00-03:00    37.529999\n",
       "2024-01-22 00:00:00-03:00    37.700001\n",
       "2024-01-23 00:00:00-03:00    38.169998\n",
       "Name: Close, Length: 125, dtype: float64"
      ]
     },
     "execution_count": 21,
     "metadata": {},
     "output_type": "execute_result"
    }
   ],
   "source": [
    "fechamento"
   ]
  },
  {
   "cell_type": "code",
   "execution_count": 28,
   "id": "65a2988c",
   "metadata": {},
   "outputs": [],
   "source": [
    "# Valor máximo\n",
    "cotacao_maxima = fechamento.max()\n",
    "\n",
    "# Valor mínimo\n",
    "cotacao_minima = fechamento.min()\n",
    "\n",
    "# Valor atual - usando o índice da tabela\n",
    "# no python a primeira linha é sempre 0 e a última é sempre -1\n",
    "# de cima pra baixo: 0 1 2 3 4 e de baixo pra cima -1 -2 -3 -4 -5\n",
    "cotacao_atual = fechamento[-1]"
   ]
  },
  {
   "cell_type": "code",
   "execution_count": 34,
   "id": "02c229a6",
   "metadata": {},
   "outputs": [
    {
     "name": "stdout",
     "output_type": "stream",
     "text": [
      "Máxima: 38.959999084472656\n",
      "Máxima: 27.2633056640625\n",
      "Máxima: 38.16999816894531\n"
     ]
    }
   ],
   "source": [
    "print(f\"Máxima: {cotacao_maxima}\")\n",
    "print(f\"Máxima: {cotacao_minima}\")\n",
    "print(f\"Máxima: {cotacao_atual}\")"
   ]
  },
  {
   "cell_type": "markdown",
   "id": "1bb8af38",
   "metadata": {},
   "source": [
    "### Passo 3 - Envio do e-mail\n",
    "\n",
    "- Abrir aba no navegador (CTRL + T)\n",
    "- Digitar o endereço do email e dar enter\n",
    "- Clicar no botão escrever\n",
    "- Inserir o email do destinatário\n",
    "- Dar um tab que muda para o campo Assunto\n",
    "- Inserir o assunto\n",
    "- Dar um tab que muda para o Corpo do email\n",
    "- Inserir o corpo do email\n",
    "- Clicar no botão enviar"
   ]
  },
  {
   "cell_type": "code",
   "execution_count": 35,
   "id": "8c56a927",
   "metadata": {},
   "outputs": [
    {
     "name": "stdout",
     "output_type": "stream",
     "text": [
      "Collecting pyautogui\n",
      "  Downloading PyAutoGUI-0.9.54.tar.gz (61 kB)\n",
      "     ---------------------------------------- 0.0/61.2 kB ? eta -:--:--\n",
      "     ------ --------------------------------- 10.2/61.2 kB ? eta -:--:--\n",
      "     ------------ ------------------------- 20.5/61.2 kB 217.9 kB/s eta 0:00:01\n",
      "     ------------------------- ------------ 41.0/61.2 kB 245.8 kB/s eta 0:00:01\n",
      "     -------------------------------------- 61.2/61.2 kB 296.5 kB/s eta 0:00:00\n",
      "  Installing build dependencies: started\n",
      "  Installing build dependencies: finished with status 'done'\n",
      "  Getting requirements to build wheel: started\n",
      "  Getting requirements to build wheel: finished with status 'done'\n",
      "  Preparing metadata (pyproject.toml): started\n",
      "  Preparing metadata (pyproject.toml): finished with status 'done'\n",
      "Collecting pymsgbox (from pyautogui)\n",
      "  Downloading PyMsgBox-1.0.9.tar.gz (18 kB)\n",
      "  Installing build dependencies: started\n",
      "  Installing build dependencies: finished with status 'done'\n",
      "  Getting requirements to build wheel: started\n",
      "  Getting requirements to build wheel: finished with status 'done'\n",
      "  Preparing metadata (pyproject.toml): started\n",
      "  Preparing metadata (pyproject.toml): finished with status 'done'\n",
      "Collecting pytweening>=1.0.4 (from pyautogui)\n",
      "  Downloading pytweening-1.0.7.tar.gz (168 kB)\n",
      "     ---------------------------------------- 0.0/168.2 kB ? eta -:--:--\n",
      "     ---------------- ---------------------- 71.7/168.2 kB 2.0 MB/s eta 0:00:01\n",
      "     -------------------------------------- 168.2/168.2 kB 2.5 MB/s eta 0:00:00\n",
      "  Preparing metadata (setup.py): started\n",
      "  Preparing metadata (setup.py): finished with status 'done'\n",
      "Collecting pyscreeze>=0.1.21 (from pyautogui)\n",
      "  Downloading PyScreeze-0.1.30.tar.gz (27 kB)\n",
      "  Installing build dependencies: started\n",
      "  Installing build dependencies: finished with status 'done'\n",
      "  Getting requirements to build wheel: started\n",
      "  Getting requirements to build wheel: finished with status 'done'\n",
      "  Preparing metadata (pyproject.toml): started\n",
      "  Preparing metadata (pyproject.toml): finished with status 'done'\n",
      "Collecting pygetwindow>=0.0.5 (from pyautogui)\n",
      "  Downloading PyGetWindow-0.0.9.tar.gz (9.7 kB)\n",
      "  Preparing metadata (setup.py): started\n",
      "  Preparing metadata (setup.py): finished with status 'done'\n",
      "Collecting mouseinfo (from pyautogui)\n",
      "  Downloading MouseInfo-0.1.3.tar.gz (10 kB)\n",
      "  Preparing metadata (setup.py): started\n",
      "  Preparing metadata (setup.py): finished with status 'done'\n",
      "Collecting pyrect (from pygetwindow>=0.0.5->pyautogui)\n",
      "  Downloading PyRect-0.2.0.tar.gz (17 kB)\n",
      "  Preparing metadata (setup.py): started\n",
      "  Preparing metadata (setup.py): finished with status 'done'\n",
      "Requirement already satisfied: Pillow>=9.3.0 in c:\\users\\malum\\anaconda3\\lib\\site-packages (from pyscreeze>=0.1.21->pyautogui) (9.4.0)\n",
      "Collecting pyperclip (from mouseinfo->pyautogui)\n",
      "  Downloading pyperclip-1.8.2.tar.gz (20 kB)\n",
      "  Preparing metadata (setup.py): started\n",
      "  Preparing metadata (setup.py): finished with status 'done'\n",
      "Building wheels for collected packages: pyautogui, pygetwindow, pyscreeze, pytweening, mouseinfo, pymsgbox, pyperclip, pyrect\n",
      "  Building wheel for pyautogui (pyproject.toml): started\n",
      "  Building wheel for pyautogui (pyproject.toml): finished with status 'done'\n",
      "  Created wheel for pyautogui: filename=PyAutoGUI-0.9.54-py3-none-any.whl size=37597 sha256=36bea5a9cd372207cc6bb08c045f34d319c10b32c9ad8fd77f5587ff30644743\n",
      "  Stored in directory: c:\\users\\malum\\appdata\\local\\pip\\cache\\wheels\\95\\dc\\b1\\fe122b791e0db8bf439a0e6e1d2628e48f10bf430cae13521b\n",
      "  Building wheel for pygetwindow (setup.py): started\n",
      "  Building wheel for pygetwindow (setup.py): finished with status 'done'\n",
      "  Created wheel for pygetwindow: filename=PyGetWindow-0.0.9-py3-none-any.whl size=11079 sha256=bf6b7f6ae9881fcf55a2186e51e99cb2ae29aca688f8a539725917f2c5bfac40\n",
      "  Stored in directory: c:\\users\\malum\\appdata\\local\\pip\\cache\\wheels\\07\\75\\0b\\7ca0b598eb4c21d43ba4bcc78a0538dfcf803a5997da33bc19\n",
      "  Building wheel for pyscreeze (pyproject.toml): started\n",
      "  Building wheel for pyscreeze (pyproject.toml): finished with status 'done'\n",
      "  Created wheel for pyscreeze: filename=PyScreeze-0.1.30-py3-none-any.whl size=14400 sha256=7b2305d91f3697ab032c34d31434576a62542c8e9d151cfd2c4a17c129e35910\n",
      "  Stored in directory: c:\\users\\malum\\appdata\\local\\pip\\cache\\wheels\\df\\bc\\15\\d685ca085ca4b11e46e54cc3da4e501a98856c7fea8f604500\n",
      "  Building wheel for pytweening (setup.py): started\n",
      "  Building wheel for pytweening (setup.py): finished with status 'done'\n",
      "  Created wheel for pytweening: filename=pytweening-1.0.7-py3-none-any.whl size=6214 sha256=dd062573520ac2ffe05bc9d62ac6403dc3360bea52b861b68462cd5cc7de9850\n",
      "  Stored in directory: c:\\users\\malum\\appdata\\local\\pip\\cache\\wheels\\b2\\9b\\02\\059beba389e7e31a635bd9e8d9b7299f4ec11caca1f237f56d\n",
      "  Building wheel for mouseinfo (setup.py): started\n",
      "  Building wheel for mouseinfo (setup.py): finished with status 'done'\n",
      "  Created wheel for mouseinfo: filename=MouseInfo-0.1.3-py3-none-any.whl size=10906 sha256=6e6c4a0faf7448ad95d99316774e8777b0a38df302a54f191c4ad9a5bafce6b7\n",
      "  Stored in directory: c:\\users\\malum\\appdata\\local\\pip\\cache\\wheels\\20\\0b\\7f\\939ac9ff785b09951c706150537572c00123412f260a6024f3\n",
      "  Building wheel for pymsgbox (pyproject.toml): started\n",
      "  Building wheel for pymsgbox (pyproject.toml): finished with status 'done'\n",
      "  Created wheel for pymsgbox: filename=PyMsgBox-1.0.9-py3-none-any.whl size=7416 sha256=2df1b311a9ea3a2721070c24624b05858d401d54c871728aa76bff7306bd2370\n",
      "  Stored in directory: c:\\users\\malum\\appdata\\local\\pip\\cache\\wheels\\85\\92\\63\\e126ee5f33d8f2ed04f96e43ef5df7270a2f331848752e8662\n",
      "  Building wheel for pyperclip (setup.py): started\n",
      "  Building wheel for pyperclip (setup.py): finished with status 'done'\n",
      "  Created wheel for pyperclip: filename=pyperclip-1.8.2-py3-none-any.whl size=11137 sha256=4238b3d323dfbbeec17c10b9e5c2f94fce85cce77e3c67ebd6aa06ebc29d4ac2\n",
      "  Stored in directory: c:\\users\\malum\\appdata\\local\\pip\\cache\\wheels\\70\\bd\\ba\\8ae5c080c895c9360fe6e153acda2dee82527374467eae061b\n",
      "  Building wheel for pyrect (setup.py): started\n",
      "  Building wheel for pyrect (setup.py): finished with status 'done'\n",
      "  Created wheel for pyrect: filename=PyRect-0.2.0-py2.py3-none-any.whl size=11205 sha256=ad83166ca72874ddc4aa822dc0f850afde4ed9ecd254b3cf9b4ad38c183041dd\n",
      "  Stored in directory: c:\\users\\malum\\appdata\\local\\pip\\cache\\wheels\\c4\\e9\\fc\\b7a666dd4f9a3168fb44d643079b41d36ddab52f470707e820\n",
      "Successfully built pyautogui pygetwindow pyscreeze pytweening mouseinfo pymsgbox pyperclip pyrect\n",
      "Installing collected packages: pytweening, pyrect, pyperclip, pymsgbox, pyscreeze, pygetwindow, mouseinfo, pyautogui\n",
      "Successfully installed mouseinfo-0.1.3 pyautogui-0.9.54 pygetwindow-0.0.9 pymsgbox-1.0.9 pyperclip-1.8.2 pyrect-0.2.0 pyscreeze-0.1.30 pytweening-1.0.7\n"
     ]
    }
   ],
   "source": [
    "!pip install pyautogui"
   ]
  },
  {
   "cell_type": "code",
   "execution_count": 36,
   "id": "35f47780",
   "metadata": {},
   "outputs": [],
   "source": [
    "import pyautogui\n",
    "import pyperclip"
   ]
  },
  {
   "cell_type": "code",
   "execution_count": 65,
   "id": "e3476c9d",
   "metadata": {},
   "outputs": [],
   "source": [
    "#Para evitar erros devido a internet mais lenta que o python\n",
    "pyautogui.PAUSE = 2\n",
    "\n",
    "# Abrindo uma aba - clicando em duas teclas ao mesmo tempo com hotkey\n",
    "pyautogui.hotkey(\"ctrl\", \"t\")\n",
    "\n",
    "# Digitar o endereço - copiar com pyperclip e colar com pyautogui\n",
    "pyperclip.copy(\"www.gmail.com\")\n",
    "pyautogui.hotkey(\"ctrl\", \"v\")\n",
    "pyautogui.hotkey(\"enter\")\n",
    "\n",
    "# Clicar no botão escrever\n",
    "pyautogui.click(x=124, y=202)\n",
    "\n",
    "# Inserir o email do destinatário\n",
    "pyperclip.copy(\"malu.martins.br@gmail.com\")\n",
    "pyautogui.hotkey(\"ctrl\", \"v\")\n",
    "pyautogui.hotkey(\"tab\")\n",
    "\n",
    "# Inserir o assunto\n",
    "pyperclip.copy(\"Análises diárias\")\n",
    "pyautogui.hotkey(\"ctrl\", \"v\")\n",
    "pyautogui.hotkey(\"tab\")\n",
    "\n",
    "# Inserir a mensagem na variável\n",
    "mensagem = f\"\"\"\n",
    "Prezado, gestor,\n",
    "\n",
    "Seguem as análises diárias dos últimos 6 meses da ação {codigo}:\n",
    "\n",
    "Cotação máxima: {round(cotacao_maxima)} R$\n",
    "Cotação mínima: {round(cotacao_minima)} R$\n",
    "Cotação atual: {round(cotacao_atual)} R$\n",
    "\n",
    "Qualquer dúvida, fico à disposição!\n",
    "\n",
    "e-mail enviado via python!\n",
    "\n",
    "\"\"\"\n",
    "\n",
    "# Inserir no corpo\n",
    "pyperclip.copy(mensagem)\n",
    "pyautogui.hotkey(\"ctrl\", \"v\")\n",
    "\n",
    "# Enviar o e-email\n",
    "pyautogui.click(x=1302, y=994)"
   ]
  },
  {
   "cell_type": "code",
   "execution_count": 62,
   "id": "34c31a75",
   "metadata": {},
   "outputs": [
    {
     "data": {
      "text/plain": [
       "Point(x=1302, y=994)"
      ]
     },
     "execution_count": 62,
     "metadata": {},
     "output_type": "execute_result"
    }
   ],
   "source": [
    "# Teste de posição do mouse - feito antes da célula anterior\n",
    "\n",
    "#5 segundos para dar tempo de posicionar o mouse - No escrever e no Enviar\n",
    "\n",
    "import time\n",
    "\n",
    "time.sleep(5)\n",
    "\n",
    "pyautogui.position()"
   ]
  },
  {
   "cell_type": "code",
   "execution_count": null,
   "id": "6decfd32",
   "metadata": {},
   "outputs": [],
   "source": []
  }
 ],
 "metadata": {
  "kernelspec": {
   "display_name": "Python 3 (ipykernel)",
   "language": "python",
   "name": "python3"
  },
  "language_info": {
   "codemirror_mode": {
    "name": "ipython",
    "version": 3
   },
   "file_extension": ".py",
   "mimetype": "text/x-python",
   "name": "python",
   "nbconvert_exporter": "python",
   "pygments_lexer": "ipython3",
   "version": "3.11.5"
  }
 },
 "nbformat": 4,
 "nbformat_minor": 5
}
