{
 "cells": [
  {
   "cell_type": "markdown",
   "id": "00b7ed68",
   "metadata": {},
   "source": [
    "# Testando questões do workbook - aula 1"
   ]
  },
  {
   "cell_type": "markdown",
   "id": "4c7d5d81",
   "metadata": {},
   "source": [
    "## Novo tipo numérico - float"
   ]
  },
  {
   "cell_type": "code",
   "execution_count": 1,
   "id": "7fb088cc",
   "metadata": {},
   "outputs": [
    {
     "data": {
      "text/plain": [
       "float"
      ]
     },
     "execution_count": 1,
     "metadata": {},
     "output_type": "execute_result"
    }
   ],
   "source": [
    "type(3.14)"
   ]
  },
  {
   "cell_type": "markdown",
   "id": "75d59368",
   "metadata": {},
   "source": [
    "## Concatenação / Soma"
   ]
  },
  {
   "cell_type": "code",
   "execution_count": 2,
   "id": "a44ac51d",
   "metadata": {},
   "outputs": [
    {
     "ename": "TypeError",
     "evalue": "can only concatenate str (not \"int\") to str",
     "output_type": "error",
     "traceback": [
      "\u001b[1;31m---------------------------------------------------------------------------\u001b[0m",
      "\u001b[1;31mTypeError\u001b[0m                                 Traceback (most recent call last)",
      "Cell \u001b[1;32mIn[2], line 1\u001b[0m\n\u001b[1;32m----> 1\u001b[0m \u001b[38;5;124m\"\u001b[39m\u001b[38;5;124m10\u001b[39m\u001b[38;5;124m\"\u001b[39m \u001b[38;5;241m+\u001b[39m \u001b[38;5;241m10\u001b[39m\n",
      "\u001b[1;31mTypeError\u001b[0m: can only concatenate str (not \"int\") to str"
     ]
    }
   ],
   "source": [
    "\"10\" + 10"
   ]
  },
  {
   "cell_type": "code",
   "execution_count": 3,
   "id": "ee5bcbb8",
   "metadata": {},
   "outputs": [
    {
     "data": {
      "text/plain": [
       "'1010'"
      ]
     },
     "execution_count": 3,
     "metadata": {},
     "output_type": "execute_result"
    }
   ],
   "source": [
    "\"10\" + \"10\""
   ]
  },
  {
   "cell_type": "code",
   "execution_count": 4,
   "id": "ad8d754e",
   "metadata": {},
   "outputs": [
    {
     "data": {
      "text/plain": [
       "20.1"
      ]
     },
     "execution_count": 4,
     "metadata": {},
     "output_type": "execute_result"
    }
   ],
   "source": [
    "10 + 10.1"
   ]
  },
  {
   "cell_type": "markdown",
   "id": "5cfbaace",
   "metadata": {},
   "source": [
    "## Conversão str para float"
   ]
  },
  {
   "cell_type": "code",
   "execution_count": 5,
   "id": "2a7274f7",
   "metadata": {},
   "outputs": [
    {
     "name": "stdout",
     "output_type": "stream",
     "text": [
      "20.4\n"
     ]
    }
   ],
   "source": [
    "print(float(\"20.4\"))"
   ]
  },
  {
   "cell_type": "markdown",
   "id": "0d732185",
   "metadata": {},
   "source": [
    "## Nomeando variáveis\n",
    "\n",
    "- Não começar com número\n",
    "- Não ter espaço em branco\n",
    "- Não serem palavras reservadas da linguagem"
   ]
  },
  {
   "cell_type": "markdown",
   "id": "81c417da",
   "metadata": {},
   "source": [
    "## Concatenando textos"
   ]
  },
  {
   "cell_type": "code",
   "execution_count": 13,
   "id": "99853f1f",
   "metadata": {},
   "outputs": [
    {
     "name": "stdout",
     "output_type": "stream",
     "text": [
      "Digite seu nome: Malu\n",
      "Digite sua idade: 23\n"
     ]
    }
   ],
   "source": [
    "nome = input(\"Digite seu nome: \")\n",
    "idade = input(\"Digite sua idade: \")"
   ]
  },
  {
   "cell_type": "code",
   "execution_count": 17,
   "id": "2b415a52",
   "metadata": {},
   "outputs": [
    {
     "name": "stdout",
     "output_type": "stream",
     "text": [
      "Meu nome é Malu e eu tenho 23 anos.\n"
     ]
    }
   ],
   "source": [
    "print(f\"Meu nome é {nome} e eu tenho {idade} anos.\")"
   ]
  },
  {
   "cell_type": "code",
   "execution_count": null,
   "id": "a96881f6",
   "metadata": {},
   "outputs": [],
   "source": []
  }
 ],
 "metadata": {
  "kernelspec": {
   "display_name": "Python 3 (ipykernel)",
   "language": "python",
   "name": "python3"
  },
  "language_info": {
   "codemirror_mode": {
    "name": "ipython",
    "version": 3
   },
   "file_extension": ".py",
   "mimetype": "text/x-python",
   "name": "python",
   "nbconvert_exporter": "python",
   "pygments_lexer": "ipython3",
   "version": "3.11.5"
  }
 },
 "nbformat": 4,
 "nbformat_minor": 5
}
