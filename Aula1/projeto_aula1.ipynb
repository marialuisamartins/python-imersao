{
 "cells": [
  {
   "cell_type": "markdown",
   "id": "d6dca1bc",
   "metadata": {},
   "source": [
    "# Primeira Aula - Semana Python\n",
    "(essa é uma célula de texto / markdown)"
   ]
  },
  {
   "cell_type": "markdown",
   "id": "7d61625f",
   "metadata": {},
   "source": [
    "## Comando print()"
   ]
  },
  {
   "cell_type": "code",
   "execution_count": 1,
   "id": "e0926fa5",
   "metadata": {},
   "outputs": [
    {
     "name": "stdout",
     "output_type": "stream",
     "text": [
      "Imersão semana do Python\n",
      "Aprenderei python do zero\n"
     ]
    }
   ],
   "source": [
    "print(\"Imersão semana do Python\")\n",
    "print(\"Aprenderei python do zero\")"
   ]
  },
  {
   "cell_type": "markdown",
   "id": "91b84cd2",
   "metadata": {},
   "source": [
    "## Entrada de dados do usuário - input()"
   ]
  },
  {
   "cell_type": "code",
   "execution_count": 5,
   "id": "ce4ec2dd",
   "metadata": {},
   "outputs": [
    {
     "name": "stdout",
     "output_type": "stream",
     "text": [
      "Digite a descrição do projeto: Descrição teste\n",
      "Digite a quantidade de horas previstas: 200\n"
     ]
    },
    {
     "data": {
      "text/plain": [
       "'200'"
      ]
     },
     "execution_count": 5,
     "metadata": {},
     "output_type": "execute_result"
    }
   ],
   "source": [
    "input(\"Digite a descrição do projeto: \")\n",
    "input(\"Digite a quantidade de horas previstas: \")"
   ]
  },
  {
   "cell_type": "markdown",
   "id": "aff73492",
   "metadata": {},
   "source": [
    "## Armazenar dados em uma variável\n",
    "- nunca começar com número\n",
    "- não colocar espaços em branco"
   ]
  },
  {
   "cell_type": "code",
   "execution_count": 6,
   "id": "044e6c67",
   "metadata": {},
   "outputs": [],
   "source": [
    "projeto = \"Aula 1\""
   ]
  },
  {
   "cell_type": "code",
   "execution_count": 7,
   "id": "2487ede3",
   "metadata": {},
   "outputs": [
    {
     "name": "stdout",
     "output_type": "stream",
     "text": [
      "Aula 1\n"
     ]
    }
   ],
   "source": [
    "print(projeto)"
   ]
  },
  {
   "cell_type": "code",
   "execution_count": 8,
   "id": "5703fdd0",
   "metadata": {},
   "outputs": [
    {
     "ename": "NameError",
     "evalue": "name 'exemplo_de_erro' is not defined",
     "output_type": "error",
     "traceback": [
      "\u001b[1;31m---------------------------------------------------------------------------\u001b[0m",
      "\u001b[1;31mNameError\u001b[0m                                 Traceback (most recent call last)",
      "Cell \u001b[1;32mIn[8], line 1\u001b[0m\n\u001b[1;32m----> 1\u001b[0m \u001b[38;5;28mprint\u001b[39m(exemplo_de_erro)\n",
      "\u001b[1;31mNameError\u001b[0m: name 'exemplo_de_erro' is not defined"
     ]
    }
   ],
   "source": [
    "print(exemplo_de_erro)"
   ]
  },
  {
   "cell_type": "code",
   "execution_count": 25,
   "id": "3c209562",
   "metadata": {},
   "outputs": [
    {
     "name": "stdout",
     "output_type": "stream",
     "text": [
      "Digite a descrição do projeto: Descrição exemplo final\n",
      "Digite a quantidade de horas previstas: 77\n",
      "Digite o valor da hora trabalhada: 150\n",
      "Digite o prazo estimado: 1 mês\n"
     ]
    }
   ],
   "source": [
    "descricao_projeto = input(\"Digite a descrição do projeto: \")\n",
    "horas_previstas = input(\"Digite a quantidade de horas previstas: \")\n",
    "valor_hora = input(\"Digite o valor da hora trabalhada: \")\n",
    "prazo_estimado = input(\"Digite o prazo estimado: \")"
   ]
  },
  {
   "cell_type": "code",
   "execution_count": 26,
   "id": "1434c0f0",
   "metadata": {},
   "outputs": [
    {
     "name": "stdout",
     "output_type": "stream",
     "text": [
      "Descrição exemplo final\n",
      "Essa é a quantidade de horas previstas: 77\n"
     ]
    }
   ],
   "source": [
    "print(descricao_projeto)\n",
    "print(\"Essa é a quantidade de horas previstas:\", horas_previstas)"
   ]
  },
  {
   "cell_type": "markdown",
   "id": "4181a3df",
   "metadata": {},
   "source": [
    "## Realizando cálculos com o python\n",
    "\n",
    "valor total = quantidade de horas X valor da hora trabalhada"
   ]
  },
  {
   "cell_type": "code",
   "execution_count": 7,
   "id": "f8f1b6f7",
   "metadata": {},
   "outputs": [
    {
     "data": {
      "text/plain": [
       "20"
      ]
     },
     "execution_count": 7,
     "metadata": {},
     "output_type": "execute_result"
    }
   ],
   "source": [
    "10 + 10"
   ]
  },
  {
   "cell_type": "code",
   "execution_count": 8,
   "id": "31ce6105",
   "metadata": {},
   "outputs": [
    {
     "data": {
      "text/plain": [
       "20"
      ]
     },
     "execution_count": 8,
     "metadata": {},
     "output_type": "execute_result"
    }
   ],
   "source": [
    "10 * 2"
   ]
  },
  {
   "cell_type": "code",
   "execution_count": 9,
   "id": "70e26a58",
   "metadata": {},
   "outputs": [
    {
     "data": {
      "text/plain": [
       "10.0"
      ]
     },
     "execution_count": 9,
     "metadata": {},
     "output_type": "execute_result"
    }
   ],
   "source": [
    "20 / 2"
   ]
  },
  {
   "cell_type": "code",
   "execution_count": 10,
   "id": "6d020f08",
   "metadata": {},
   "outputs": [
    {
     "ename": "TypeError",
     "evalue": "can't multiply sequence by non-int of type 'str'",
     "output_type": "error",
     "traceback": [
      "\u001b[1;31m---------------------------------------------------------------------------\u001b[0m",
      "\u001b[1;31mTypeError\u001b[0m                                 Traceback (most recent call last)",
      "Cell \u001b[1;32mIn[10], line 1\u001b[0m\n\u001b[1;32m----> 1\u001b[0m horas_previstas \u001b[38;5;241m*\u001b[39m valor_hora\n",
      "\u001b[1;31mTypeError\u001b[0m: can't multiply sequence by non-int of type 'str'"
     ]
    }
   ],
   "source": [
    "horas_previstas * valor_hora"
   ]
  },
  {
   "cell_type": "markdown",
   "id": "0babb13d",
   "metadata": {},
   "source": [
    "### Tipos de dados\n",
    "\n",
    "- texto (str)\n",
    "- numérico (int)"
   ]
  },
  {
   "cell_type": "markdown",
   "id": "bd4ead2f",
   "metadata": {},
   "source": [
    "#### isso é um número:"
   ]
  },
  {
   "cell_type": "code",
   "execution_count": 11,
   "id": "bfc82174",
   "metadata": {},
   "outputs": [
    {
     "data": {
      "text/plain": [
       "10"
      ]
     },
     "execution_count": 11,
     "metadata": {},
     "output_type": "execute_result"
    }
   ],
   "source": [
    "10"
   ]
  },
  {
   "cell_type": "code",
   "execution_count": 12,
   "id": "b4fa00b4",
   "metadata": {},
   "outputs": [
    {
     "data": {
      "text/plain": [
       "int"
      ]
     },
     "execution_count": 12,
     "metadata": {},
     "output_type": "execute_result"
    }
   ],
   "source": [
    "type(10)"
   ]
  },
  {
   "cell_type": "markdown",
   "id": "160ca284",
   "metadata": {},
   "source": [
    "#### isso é um texto:"
   ]
  },
  {
   "cell_type": "code",
   "execution_count": 13,
   "id": "f113505e",
   "metadata": {},
   "outputs": [
    {
     "data": {
      "text/plain": [
       "'10'"
      ]
     },
     "execution_count": 13,
     "metadata": {},
     "output_type": "execute_result"
    }
   ],
   "source": [
    "\"10\""
   ]
  },
  {
   "cell_type": "code",
   "execution_count": 14,
   "id": "20b7b203",
   "metadata": {},
   "outputs": [
    {
     "data": {
      "text/plain": [
       "str"
      ]
     },
     "execution_count": 14,
     "metadata": {},
     "output_type": "execute_result"
    }
   ],
   "source": [
    "type(\"10\")"
   ]
  },
  {
   "cell_type": "markdown",
   "id": "0223c121",
   "metadata": {},
   "source": [
    "#### TODA VEZ que o comando input() for usado, ele é retornado um texto, não um número"
   ]
  },
  {
   "cell_type": "code",
   "execution_count": 15,
   "id": "264eb144",
   "metadata": {},
   "outputs": [
    {
     "data": {
      "text/plain": [
       "str"
      ]
     },
     "execution_count": 15,
     "metadata": {},
     "output_type": "execute_result"
    }
   ],
   "source": [
    "type(horas_previstas)"
   ]
  },
  {
   "cell_type": "markdown",
   "id": "40407f0a",
   "metadata": {},
   "source": [
    "#### Convertendo tipos de dados"
   ]
  },
  {
   "cell_type": "code",
   "execution_count": 16,
   "id": "1959a454",
   "metadata": {},
   "outputs": [
    {
     "data": {
      "text/plain": [
       "10"
      ]
     },
     "execution_count": 16,
     "metadata": {},
     "output_type": "execute_result"
    }
   ],
   "source": [
    "int(\"10\")"
   ]
  },
  {
   "cell_type": "code",
   "execution_count": 17,
   "id": "eb1acff2",
   "metadata": {},
   "outputs": [
    {
     "data": {
      "text/plain": [
       "'10'"
      ]
     },
     "execution_count": 17,
     "metadata": {},
     "output_type": "execute_result"
    }
   ],
   "source": [
    "str(10)"
   ]
  },
  {
   "cell_type": "code",
   "execution_count": 18,
   "id": "5364b860",
   "metadata": {},
   "outputs": [
    {
     "data": {
      "text/plain": [
       "str"
      ]
     },
     "execution_count": 18,
     "metadata": {},
     "output_type": "execute_result"
    }
   ],
   "source": [
    "type(str(10))"
   ]
  },
  {
   "cell_type": "code",
   "execution_count": 19,
   "id": "ddb263b7",
   "metadata": {},
   "outputs": [
    {
     "data": {
      "text/plain": [
       "int"
      ]
     },
     "execution_count": 19,
     "metadata": {},
     "output_type": "execute_result"
    }
   ],
   "source": [
    "type(int(\"10\"))"
   ]
  },
  {
   "cell_type": "code",
   "execution_count": 27,
   "id": "e545f789",
   "metadata": {},
   "outputs": [],
   "source": [
    "valor_total = int(horas_previstas) * int(valor_hora)"
   ]
  },
  {
   "cell_type": "code",
   "execution_count": 28,
   "id": "d8b5e2c1",
   "metadata": {},
   "outputs": [
    {
     "name": "stdout",
     "output_type": "stream",
     "text": [
      "11550\n"
     ]
    }
   ],
   "source": [
    "print(valor_total)"
   ]
  },
  {
   "cell_type": "markdown",
   "id": "592f82bb",
   "metadata": {},
   "source": [
    "# Gerando o Orçamento"
   ]
  },
  {
   "cell_type": "code",
   "execution_count": 29,
   "id": "16af0d5e",
   "metadata": {},
   "outputs": [
    {
     "name": "stdout",
     "output_type": "stream",
     "text": [
      "Requirement already satisfied: fpdf in c:\\users\\malum\\anaconda3\\lib\\site-packages (1.7.2)\n"
     ]
    }
   ],
   "source": [
    "!pip install fpdf"
   ]
  },
  {
   "cell_type": "code",
   "execution_count": 30,
   "id": "c6c1a75e",
   "metadata": {},
   "outputs": [],
   "source": [
    "from fpdf import FPDF"
   ]
  },
  {
   "cell_type": "code",
   "execution_count": 32,
   "id": "9d213a04",
   "metadata": {},
   "outputs": [
    {
     "name": "stdout",
     "output_type": "stream",
     "text": [
      "Orçamento gerado com sucesso!\n"
     ]
    }
   ],
   "source": [
    "# criando um PDF - esse é um comentário\n",
    "pdf = FPDF()\n",
    "\n",
    "pdf.add_page()\n",
    "pdf.set_font(\"Arial\")\n",
    "\n",
    "# pegando uma imagem e colocando dentro do pdf\n",
    "pdf.image(\"template.png\", x=0, y=0)\n",
    "\n",
    "# primeiras duas informações são as cordenadas X e Y\n",
    "pdf.text(115, 145, descricao_projeto)\n",
    "pdf.text(115, 160, horas_previstas)\n",
    "pdf.text(115, 175, valor_hora)\n",
    "pdf.text(115, 190, prazo_estimado)\n",
    "pdf.text(115, 205, str(valor_total))\n",
    "\n",
    "pdf.output(\"Orçamento.pdf\")\n",
    "\n",
    "print(\"Orçamento gerado com sucesso!\")\n",
    "\n",
    "# se der erro o arquivo pode estar aberto e dar problema com permissão"
   ]
  },
  {
   "cell_type": "code",
   "execution_count": null,
   "id": "6e1a4853",
   "metadata": {},
   "outputs": [],
   "source": []
  },
  {
   "cell_type": "code",
   "execution_count": null,
   "id": "8c4f16e7",
   "metadata": {},
   "outputs": [],
   "source": []
  }
 ],
 "metadata": {
  "kernelspec": {
   "display_name": "Python 3 (ipykernel)",
   "language": "python",
   "name": "python3"
  },
  "language_info": {
   "codemirror_mode": {
    "name": "ipython",
    "version": 3
   },
   "file_extension": ".py",
   "mimetype": "text/x-python",
   "name": "python",
   "nbconvert_exporter": "python",
   "pygments_lexer": "ipython3",
   "version": "3.11.5"
  }
 },
 "nbformat": 4,
 "nbformat_minor": 5
}
